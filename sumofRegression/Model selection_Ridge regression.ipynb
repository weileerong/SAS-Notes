{
 "cells": [
  {
   "cell_type": "code",
   "execution_count": null,
   "metadata": {},
   "outputs": [],
   "source": [
    "*Model selection;\n",
    "proc reg data=job;\n",
    "model y = x1 x2 x3 x4 / selection=stepwise;\n",
    "run;\n",
    "\n",
    "proc reg data=job;\n",
    "model y = x1 x2 x3 x4 / selection=ADJRSQ;\n",
    "run;"
   ]
  },
  {
   "cell_type": "code",
   "execution_count": null,
   "metadata": {},
   "outputs": [],
   "source": [
    "data cement;\n",
    "input Y X1 X2 X3 X4;\n",
    "datalines;\n",
    "78.5 7 26 6 60\n",
    "74.3 1 29 15 52\n",
    "104.3 11 56 8 20\n",
    "87.6 11 31 8 47\n",
    "95.9 7 52 6 33\n",
    "109.2 11 55 9 22\n",
    "102.7 3 71 17 6\n",
    "72.5 1 31 22 44\n",
    "93.1 2 54 18 22\n",
    "115.9 21 47 4 26\n",
    "83.8 1 40 23 34\n",
    "113.3 11 66 9 12\n",
    "109.4 10 68 8 12\n",
    ";\n",
    "run;\n"
   ]
  },
  {
   "cell_type": "code",
   "execution_count": null,
   "metadata": {},
   "outputs": [],
   "source": [
    "proc reg data=cement outest=RidgeOut outvif ridge=0.000 0.002 0.004 0.006 0.008 0.02 0.04 0.06;\n",
    "      model Y=X1 X2 X3 X4 ; \n",
    "run;"
   ]
  },
  {
   "cell_type": "code",
   "execution_count": null,
   "metadata": {},
   "outputs": [],
   "source": [
    "data Ridgeout2;\n",
    "set Ridgeout;\n",
    "R2 = 1-((_RMSE_**2)*8/2715.76); *calculate R-squared;\n",
    "run;"
   ]
  },
  {
   "cell_type": "code",
   "execution_count": null,
   "metadata": {},
   "outputs": [],
   "source": [
    "proc reg data=cement outest=Finalput;\n",
    "      model Y=X1 X2 X3 X4 /Ridge=0.04 outseb;  *Final model;\n",
    "run;"
   ]
  }
 ],
 "metadata": {
  "kernelspec": {
   "display_name": "SAS",
   "language": "sas",
   "name": "sas"
  },
  "language_info": {
   "codemirror_mode": "sas",
   "file_extension": ".sas",
   "mimetype": "text/x-sas",
   "name": "sas"
  }
 },
 "nbformat": 4,
 "nbformat_minor": 2
}
